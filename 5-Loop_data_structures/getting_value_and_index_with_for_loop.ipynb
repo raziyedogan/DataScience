{
 "cells": [
  {
   "cell_type": "markdown",
   "id": "680d8314",
   "metadata": {},
   "source": [
    "for döngüsünü farklı yapılarda nasıl kullandığımızı inceleyelim."
   ]
  },
  {
   "cell_type": "code",
   "execution_count": 1,
   "id": "0be6f143",
   "metadata": {},
   "outputs": [
    {
     "name": "stdout",
     "output_type": "stream",
     "text": [
      "i is: 1\n",
      "i is: 2\n",
      "i is: 3\n",
      "i is: 4\n",
      "i is: 5\n",
      " \n"
     ]
    }
   ],
   "source": [
    "#bir liste oluşturalım:\n",
    "lis = [1,2,3,4,5]\n",
    "for i in lis:\n",
    "    print(\"i is:\", i)\n",
    "print(' ')\n",
    "\n",
    "#liste içerisine girmek için genellikle for döngüsü kullanılır."
   ]
  },
  {
   "cell_type": "markdown",
   "id": "7c808f6c",
   "metadata": {},
   "source": [
    "Enumerate: Liste içerisindeki her bir değerin indeksi vardır. Hem liste içerisindeki değerlere hemde değerlerin indekslerine \n",
    "erişim sağlamak isterse Enumerate metodunu kullanırız.\n",
    "\n",
    "Machine learning'te veya Deep Learning'te liste içerisindeki değerin önemli olduğu kadar indekside önemlidir. "
   ]
  },
  {
   "cell_type": "code",
   "execution_count": 2,
   "id": "e174f9d0",
   "metadata": {},
   "outputs": [
    {
     "name": "stdout",
     "output_type": "stream",
     "text": [
      "0  :  1\n",
      "1  :  2\n",
      "2  :  3\n",
      "3  :  4\n",
      "4  :  5\n",
      "\n"
     ]
    }
   ],
   "source": [
    "# index : value = 0:1, 1:2, 2:3, 3:4, 4:5\n",
    "for index, value in enumerate(lis): #lis isimli listenin değerleri value nin içerisine, indekslerde index içerisine depolanır.\n",
    "    print(index,\" : \",value)\n",
    "print('')  "
   ]
  },
  {
   "cell_type": "markdown",
   "id": "34be77e1",
   "metadata": {},
   "source": [
    "for döngüsünü dictionary yapısının içerisine erişebilmek içinde kullanabiliriz.\n",
    "\n",
    "Binlerce belkide daha fazla veri içeren dictionary yapısı içerisindeki key ve value değerlerine erişebilmek için for döngüsü gayet kullanışlıdır.\n",
    "\n",
    "dictionary.items() ifadesi ile dictionary içerisindeki hem key hemde value değerlerine erişebiliriz."
   ]
  },
  {
   "cell_type": "code",
   "execution_count": 3,
   "id": "a1b24ffc",
   "metadata": {},
   "outputs": [
    {
     "name": "stdout",
     "output_type": "stream",
     "text": [
      "spain  :  madrid\n",
      "france  :  paris\n",
      "\n"
     ]
    }
   ],
   "source": [
    "dictionary = {'spain':'madrid','france':'paris'}\n",
    "for key,value in dictionary.items():\n",
    "    print(key,\" : \",value)\n",
    "print('')"
   ]
  },
  {
   "cell_type": "markdown",
   "id": "39049bf3",
   "metadata": {},
   "source": [
    "Pandas için indeks ve değer elde edebiliriz. \n",
    "\n",
    "Bir veri seti içerisindeki bir değeri ve aynı zamanda indeksinide almak istersek iterrows() metodunu kullanırız."
   ]
  },
  {
   "cell_type": "code",
   "execution_count": 4,
   "id": "cd1346bd",
   "metadata": {},
   "outputs": [
    {
     "data": {
      "text/html": [
       "<div>\n",
       "<style scoped>\n",
       "    .dataframe tbody tr th:only-of-type {\n",
       "        vertical-align: middle;\n",
       "    }\n",
       "\n",
       "    .dataframe tbody tr th {\n",
       "        vertical-align: top;\n",
       "    }\n",
       "\n",
       "    .dataframe thead th {\n",
       "        text-align: right;\n",
       "    }\n",
       "</style>\n",
       "<table border=\"1\" class=\"dataframe\">\n",
       "  <thead>\n",
       "    <tr style=\"text-align: right;\">\n",
       "      <th></th>\n",
       "      <th>#</th>\n",
       "      <th>Name</th>\n",
       "      <th>Type 1</th>\n",
       "      <th>Type 2</th>\n",
       "      <th>HP</th>\n",
       "      <th>Attack</th>\n",
       "      <th>Defense</th>\n",
       "      <th>Sp. Atk</th>\n",
       "      <th>Sp. Def</th>\n",
       "      <th>Speed</th>\n",
       "      <th>Generation</th>\n",
       "      <th>Legendary</th>\n",
       "    </tr>\n",
       "  </thead>\n",
       "  <tbody>\n",
       "    <tr>\n",
       "      <th>0</th>\n",
       "      <td>1</td>\n",
       "      <td>Bulbasaur</td>\n",
       "      <td>Grass</td>\n",
       "      <td>Poison</td>\n",
       "      <td>45</td>\n",
       "      <td>49</td>\n",
       "      <td>49</td>\n",
       "      <td>65</td>\n",
       "      <td>65</td>\n",
       "      <td>45</td>\n",
       "      <td>1</td>\n",
       "      <td>False</td>\n",
       "    </tr>\n",
       "  </tbody>\n",
       "</table>\n",
       "</div>"
      ],
      "text/plain": [
       "   #       Name Type 1  Type 2  HP  Attack  Defense  Sp. Atk  Sp. Def  Speed  \\\n",
       "0  1  Bulbasaur  Grass  Poison  45      49       49       65       65     45   \n",
       "\n",
       "   Generation  Legendary  \n",
       "0           1      False  "
      ]
     },
     "execution_count": 4,
     "metadata": {},
     "output_type": "execute_result"
    }
   ],
   "source": [
    "import pandas as pd\n",
    "\n",
    "#pokemonlarla ilgili bilgiler içeren veri setini import edelim:\n",
    "data = pd.read_csv('pokemon.csv')\n",
    "\n",
    "#data içerisindeki Attack sütununun ilk değerine bakalım:\n",
    "data.head(1)"
   ]
  },
  {
   "cell_type": "code",
   "execution_count": 5,
   "id": "de9faa6b",
   "metadata": {},
   "outputs": [
    {
     "name": "stdout",
     "output_type": "stream",
     "text": [
      "0  :  Attack    49\n",
      "Name: 0, dtype: int64\n"
     ]
    }
   ],
   "source": [
    "#data içerisindeki Attack sütununun ilk değerini ve aynı zamanda indeksinide alalım:\n",
    "for index,value in data[['Attack']][0:1].iterrows():\n",
    "    print(index,\" : \",value)"
   ]
  },
  {
   "cell_type": "markdown",
   "id": "f1cd4126",
   "metadata": {},
   "source": [
    "Yani sonuç olarak liste, pandas ve dictionary yapılarında hem değeri hemde değerin indeksini for döngüsü ile elde edebiliriz."
   ]
  }
 ],
 "metadata": {
  "kernelspec": {
   "display_name": "Python 3 (ipykernel)",
   "language": "python",
   "name": "python3"
  },
  "language_info": {
   "codemirror_mode": {
    "name": "ipython",
    "version": 3
   },
   "file_extension": ".py",
   "mimetype": "text/x-python",
   "name": "python",
   "nbconvert_exporter": "python",
   "pygments_lexer": "ipython3",
   "version": "3.9.7"
  }
 },
 "nbformat": 4,
 "nbformat_minor": 5
}
