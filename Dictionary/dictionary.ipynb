{
 "cells": [
  {
   "cell_type": "markdown",
   "id": "8e6ea552",
   "metadata": {},
   "source": [
    "DICTIONARY\n",
    "\n",
    "Dictionary, bir data frame yapısı gibi içerisinde key ve value değerleri bulundurur.\n",
    "\n",
    "Dictionary yapısına bir örnek verelim:   dict = {'name': 'John'} \n",
    "\n",
    "Burada name key değeridir ve John value değeridir.\n",
    "\n",
    "Şunuda söylemek gerekir ki, dictionary yapısı list yapılarından daha hızlıdır.\n",
    "Ayrıca Deep Learning'te dictionary yapısına ihtiyaç duymaktayız.\n",
    "\n",
    "Dictionary ile ilgili metodları inceleyelim."
   ]
  },
  {
   "cell_type": "code",
   "execution_count": 1,
   "id": "e9929fb4",
   "metadata": {},
   "outputs": [
    {
     "name": "stdout",
     "output_type": "stream",
     "text": [
      "dict_keys(['spain', 'usa'])\n",
      "dict_values(['madrid', 'vegas'])\n"
     ]
    }
   ],
   "source": [
    "#Bir dictionary oluşturalım:\n",
    "dictionary = {'spain' : 'madrid','usa' : 'vegas'}\n",
    "\n",
    "#dictionary yapımdaki key'ler:\n",
    "print(dictionary.keys())\n",
    "\n",
    "#dictionary yapımdaki value'ler:\n",
    "print(dictionary.values())"
   ]
  },
  {
   "cell_type": "code",
   "execution_count": 2,
   "id": "403d2c24",
   "metadata": {},
   "outputs": [
    {
     "name": "stdout",
     "output_type": "stream",
     "text": [
      "{'spain': 'barcelona', 'usa': 'vegas'}\n",
      "{'spain': 'barcelona', 'usa': 'vegas', 'france': 'paris'}\n",
      "{'usa': 'vegas', 'france': 'paris'}\n",
      "True\n",
      "{}\n"
     ]
    },
    {
     "ename": "NameError",
     "evalue": "name 'dictionary' is not defined",
     "output_type": "error",
     "traceback": [
      "\u001b[1;31m---------------------------------------------------------------------------\u001b[0m",
      "\u001b[1;31mNameError\u001b[0m                                 Traceback (most recent call last)",
      "\u001b[1;32m~\\AppData\\Local\\Temp/ipykernel_6716/1299118231.py\u001b[0m in \u001b[0;36m<module>\u001b[1;34m\u001b[0m\n\u001b[0;32m     20\u001b[0m \u001b[1;31m#dictionary'in bellekte yer kaplamasını istemiyorsak dictionary yapısını sileriz:\u001b[0m\u001b[1;33m\u001b[0m\u001b[1;33m\u001b[0m\u001b[0m\n\u001b[0;32m     21\u001b[0m \u001b[1;32mdel\u001b[0m \u001b[0mdictionary\u001b[0m\u001b[1;33m\u001b[0m\u001b[1;33m\u001b[0m\u001b[0m\n\u001b[1;32m---> 22\u001b[1;33m \u001b[0mprint\u001b[0m\u001b[1;33m(\u001b[0m\u001b[0mdictionary\u001b[0m\u001b[1;33m)\u001b[0m \u001b[1;31m#Çıktıda hata ile karşılaşırız. Çünkü dictionary yapısını sildikten sonra dictionary'i print ettirirsek, böyle bir dictionary olmadığından hata verecektir.\u001b[0m\u001b[1;33m\u001b[0m\u001b[1;33m\u001b[0m\u001b[0m\n\u001b[0m",
      "\u001b[1;31mNameError\u001b[0m: name 'dictionary' is not defined"
     ]
    }
   ],
   "source": [
    "#dictionary yapısı içerisindeki bir key'i değiştirelim:\n",
    "dictionary['spain'] = \"barcelona\"    #Çıktıda spain key'i yerinde barcelona ifadesi görülür.\n",
    "print(dictionary)\n",
    "\n",
    "#Yeni bir kayıt ekleyelim:\n",
    "dictionary['france'] = \"paris\"       #Çıktıda dictionary yapısı içerisinde 'france': 'paris' ifadesi görülür.\n",
    "print(dictionary)\n",
    "\n",
    "#dictionary yapısı içerisinden key değerini kullanarak kaydı silelim:\n",
    "del dictionary['spain']              #Çıktıda 'spain': 'barcelona' ifadesinin artık bulunmadığı görülür.\n",
    "print(dictionary)\n",
    "\n",
    "#dictionary yapısı içerisinde bir key'in var olup olmadığını öğrenelim:\n",
    "print('france' in dictionary)     \n",
    "\n",
    "#dicitonary yapısının içeriğini temizleyelim:\n",
    "dictionary.clear()       #Çıktıda boş bir dictionary anlamına gelen {} ifadesi görülür.             \n",
    "print(dictionary)\n",
    "\n",
    "#dictionary'in bellekte yer kaplamasını istemiyorsak dictionary yapısını sileriz:\n",
    "del dictionary           \n",
    "print(dictionary) #Çıktıda hata ile karşılaşırız. Çünkü dictionary yapısını sildikten sonra dictionary'i print ettirirsek, böyle bir dictionary olmadığından hata verecektir."
   ]
  }
 ],
 "metadata": {
  "kernelspec": {
   "display_name": "Python 3 (ipykernel)",
   "language": "python",
   "name": "python3"
  },
  "language_info": {
   "codemirror_mode": {
    "name": "ipython",
    "version": 3
   },
   "file_extension": ".py",
   "mimetype": "text/x-python",
   "name": "python",
   "nbconvert_exporter": "python",
   "pygments_lexer": "ipython3",
   "version": "3.9.7"
  }
 },
 "nbformat": 4,
 "nbformat_minor": 5
}
