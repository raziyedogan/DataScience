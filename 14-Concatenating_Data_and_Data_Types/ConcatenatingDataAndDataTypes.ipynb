{
 "cells": [
  {
   "cell_type": "markdown",
   "id": "2921855d",
   "metadata": {},
   "source": [
    "CONCATENATING DATA\n",
    "\n",
    "İki tane dataframe'i birleştirebilmemiz mümkündür."
   ]
  },
  {
   "cell_type": "code",
   "execution_count": 1,
   "id": "51891594",
   "metadata": {},
   "outputs": [],
   "source": [
    "import numpy as np\n",
    "import pandas as pd"
   ]
  },
  {
   "cell_type": "code",
   "execution_count": 2,
   "id": "e0874221",
   "metadata": {},
   "outputs": [],
   "source": [
    "data = pd.read_csv(\"pokemon.csv\")"
   ]
  },
  {
   "cell_type": "code",
   "execution_count": 3,
   "id": "19134964",
   "metadata": {},
   "outputs": [
    {
     "data": {
      "text/html": [
       "<div>\n",
       "<style scoped>\n",
       "    .dataframe tbody tr th:only-of-type {\n",
       "        vertical-align: middle;\n",
       "    }\n",
       "\n",
       "    .dataframe tbody tr th {\n",
       "        vertical-align: top;\n",
       "    }\n",
       "\n",
       "    .dataframe thead th {\n",
       "        text-align: right;\n",
       "    }\n",
       "</style>\n",
       "<table border=\"1\" class=\"dataframe\">\n",
       "  <thead>\n",
       "    <tr style=\"text-align: right;\">\n",
       "      <th></th>\n",
       "      <th>#</th>\n",
       "      <th>Name</th>\n",
       "      <th>Type 1</th>\n",
       "      <th>Type 2</th>\n",
       "      <th>HP</th>\n",
       "      <th>Attack</th>\n",
       "      <th>Defense</th>\n",
       "      <th>Sp. Atk</th>\n",
       "      <th>Sp. Def</th>\n",
       "      <th>Speed</th>\n",
       "      <th>Generation</th>\n",
       "      <th>Legendary</th>\n",
       "    </tr>\n",
       "  </thead>\n",
       "  <tbody>\n",
       "    <tr>\n",
       "      <th>0</th>\n",
       "      <td>1</td>\n",
       "      <td>Bulbasaur</td>\n",
       "      <td>Grass</td>\n",
       "      <td>Poison</td>\n",
       "      <td>45</td>\n",
       "      <td>49</td>\n",
       "      <td>49</td>\n",
       "      <td>65</td>\n",
       "      <td>65</td>\n",
       "      <td>45</td>\n",
       "      <td>1</td>\n",
       "      <td>False</td>\n",
       "    </tr>\n",
       "    <tr>\n",
       "      <th>1</th>\n",
       "      <td>2</td>\n",
       "      <td>Ivysaur</td>\n",
       "      <td>Grass</td>\n",
       "      <td>Poison</td>\n",
       "      <td>60</td>\n",
       "      <td>62</td>\n",
       "      <td>63</td>\n",
       "      <td>80</td>\n",
       "      <td>80</td>\n",
       "      <td>60</td>\n",
       "      <td>1</td>\n",
       "      <td>False</td>\n",
       "    </tr>\n",
       "    <tr>\n",
       "      <th>2</th>\n",
       "      <td>3</td>\n",
       "      <td>Venusaur</td>\n",
       "      <td>Grass</td>\n",
       "      <td>Poison</td>\n",
       "      <td>80</td>\n",
       "      <td>82</td>\n",
       "      <td>83</td>\n",
       "      <td>100</td>\n",
       "      <td>100</td>\n",
       "      <td>80</td>\n",
       "      <td>1</td>\n",
       "      <td>False</td>\n",
       "    </tr>\n",
       "    <tr>\n",
       "      <th>3</th>\n",
       "      <td>4</td>\n",
       "      <td>Mega Venusaur</td>\n",
       "      <td>Grass</td>\n",
       "      <td>Poison</td>\n",
       "      <td>80</td>\n",
       "      <td>100</td>\n",
       "      <td>123</td>\n",
       "      <td>122</td>\n",
       "      <td>120</td>\n",
       "      <td>80</td>\n",
       "      <td>1</td>\n",
       "      <td>False</td>\n",
       "    </tr>\n",
       "    <tr>\n",
       "      <th>4</th>\n",
       "      <td>5</td>\n",
       "      <td>Charmander</td>\n",
       "      <td>Fire</td>\n",
       "      <td>NaN</td>\n",
       "      <td>39</td>\n",
       "      <td>52</td>\n",
       "      <td>43</td>\n",
       "      <td>60</td>\n",
       "      <td>50</td>\n",
       "      <td>65</td>\n",
       "      <td>1</td>\n",
       "      <td>False</td>\n",
       "    </tr>\n",
       "    <tr>\n",
       "      <th>5</th>\n",
       "      <td>796</td>\n",
       "      <td>Diancie</td>\n",
       "      <td>Rock</td>\n",
       "      <td>Fairy</td>\n",
       "      <td>50</td>\n",
       "      <td>100</td>\n",
       "      <td>150</td>\n",
       "      <td>100</td>\n",
       "      <td>150</td>\n",
       "      <td>50</td>\n",
       "      <td>6</td>\n",
       "      <td>True</td>\n",
       "    </tr>\n",
       "    <tr>\n",
       "      <th>6</th>\n",
       "      <td>797</td>\n",
       "      <td>Mega Diancie</td>\n",
       "      <td>Rock</td>\n",
       "      <td>Fairy</td>\n",
       "      <td>50</td>\n",
       "      <td>160</td>\n",
       "      <td>110</td>\n",
       "      <td>160</td>\n",
       "      <td>110</td>\n",
       "      <td>110</td>\n",
       "      <td>6</td>\n",
       "      <td>True</td>\n",
       "    </tr>\n",
       "    <tr>\n",
       "      <th>7</th>\n",
       "      <td>798</td>\n",
       "      <td>Hoopa Confined</td>\n",
       "      <td>Psychic</td>\n",
       "      <td>Ghost</td>\n",
       "      <td>80</td>\n",
       "      <td>110</td>\n",
       "      <td>60</td>\n",
       "      <td>150</td>\n",
       "      <td>130</td>\n",
       "      <td>70</td>\n",
       "      <td>6</td>\n",
       "      <td>True</td>\n",
       "    </tr>\n",
       "    <tr>\n",
       "      <th>8</th>\n",
       "      <td>799</td>\n",
       "      <td>Hoopa Unbound</td>\n",
       "      <td>Psychic</td>\n",
       "      <td>Dark</td>\n",
       "      <td>80</td>\n",
       "      <td>160</td>\n",
       "      <td>60</td>\n",
       "      <td>170</td>\n",
       "      <td>130</td>\n",
       "      <td>80</td>\n",
       "      <td>6</td>\n",
       "      <td>True</td>\n",
       "    </tr>\n",
       "    <tr>\n",
       "      <th>9</th>\n",
       "      <td>800</td>\n",
       "      <td>Volcanion</td>\n",
       "      <td>Fire</td>\n",
       "      <td>Water</td>\n",
       "      <td>80</td>\n",
       "      <td>110</td>\n",
       "      <td>120</td>\n",
       "      <td>130</td>\n",
       "      <td>90</td>\n",
       "      <td>70</td>\n",
       "      <td>6</td>\n",
       "      <td>True</td>\n",
       "    </tr>\n",
       "  </tbody>\n",
       "</table>\n",
       "</div>"
      ],
      "text/plain": [
       "     #            Name   Type 1  Type 2  HP  Attack  Defense  Sp. Atk  \\\n",
       "0    1       Bulbasaur    Grass  Poison  45      49       49       65   \n",
       "1    2         Ivysaur    Grass  Poison  60      62       63       80   \n",
       "2    3        Venusaur    Grass  Poison  80      82       83      100   \n",
       "3    4   Mega Venusaur    Grass  Poison  80     100      123      122   \n",
       "4    5      Charmander     Fire     NaN  39      52       43       60   \n",
       "5  796         Diancie     Rock   Fairy  50     100      150      100   \n",
       "6  797    Mega Diancie     Rock   Fairy  50     160      110      160   \n",
       "7  798  Hoopa Confined  Psychic   Ghost  80     110       60      150   \n",
       "8  799   Hoopa Unbound  Psychic    Dark  80     160       60      170   \n",
       "9  800       Volcanion     Fire   Water  80     110      120      130   \n",
       "\n",
       "   Sp. Def  Speed  Generation  Legendary  \n",
       "0       65     45           1      False  \n",
       "1       80     60           1      False  \n",
       "2      100     80           1      False  \n",
       "3      120     80           1      False  \n",
       "4       50     65           1      False  \n",
       "5      150     50           6       True  \n",
       "6      110    110           6       True  \n",
       "7      130     70           6       True  \n",
       "8      130     80           6       True  \n",
       "9       90     70           6       True  "
      ]
     },
     "execution_count": 3,
     "metadata": {},
     "output_type": "execute_result"
    }
   ],
   "source": [
    "data1 = data.head()\n",
    "data2= data.tail()\n",
    "conc_data_row = pd.concat([data1,data2],axis =0,ignore_index =True) \n",
    "conc_data_row"
   ]
  },
  {
   "cell_type": "markdown",
   "id": "6e75cd2d",
   "metadata": {},
   "source": [
    "Yukarıda olanları açıklayalım.\n",
    "\n",
    "Veri setinin ilk 5 sample'sini data1 değişkenine atadık. Son 5 sample'sini de data2 değişkenine atadık. \n",
    "\n",
    "data1 ve data2 de tutulanları axis=0 olmasından dolayı vertical şekilde yani yukarıdan aşağıya doğru yerleştirdik. Ve ignore_index =True parametresinden dolayı soldan ilk sütunda görüleceği üzere indeksler elde edildi."
   ]
  },
  {
   "cell_type": "code",
   "execution_count": 4,
   "id": "2497d84b",
   "metadata": {},
   "outputs": [
    {
     "data": {
      "text/html": [
       "<div>\n",
       "<style scoped>\n",
       "    .dataframe tbody tr th:only-of-type {\n",
       "        vertical-align: middle;\n",
       "    }\n",
       "\n",
       "    .dataframe tbody tr th {\n",
       "        vertical-align: top;\n",
       "    }\n",
       "\n",
       "    .dataframe thead th {\n",
       "        text-align: right;\n",
       "    }\n",
       "</style>\n",
       "<table border=\"1\" class=\"dataframe\">\n",
       "  <thead>\n",
       "    <tr style=\"text-align: right;\">\n",
       "      <th></th>\n",
       "      <th>Attack</th>\n",
       "      <th>Defense</th>\n",
       "    </tr>\n",
       "  </thead>\n",
       "  <tbody>\n",
       "    <tr>\n",
       "      <th>0</th>\n",
       "      <td>49</td>\n",
       "      <td>49</td>\n",
       "    </tr>\n",
       "    <tr>\n",
       "      <th>1</th>\n",
       "      <td>62</td>\n",
       "      <td>63</td>\n",
       "    </tr>\n",
       "    <tr>\n",
       "      <th>2</th>\n",
       "      <td>82</td>\n",
       "      <td>83</td>\n",
       "    </tr>\n",
       "    <tr>\n",
       "      <th>3</th>\n",
       "      <td>100</td>\n",
       "      <td>123</td>\n",
       "    </tr>\n",
       "    <tr>\n",
       "      <th>4</th>\n",
       "      <td>52</td>\n",
       "      <td>43</td>\n",
       "    </tr>\n",
       "  </tbody>\n",
       "</table>\n",
       "</div>"
      ],
      "text/plain": [
       "   Attack  Defense\n",
       "0      49       49\n",
       "1      62       63\n",
       "2      82       83\n",
       "3     100      123\n",
       "4      52       43"
      ]
     },
     "execution_count": 4,
     "metadata": {},
     "output_type": "execute_result"
    }
   ],
   "source": [
    "data1 = data['Attack'].head()\n",
    "data2= data['Defense'].head()\n",
    "conc_data_col = pd.concat([data1,data2],axis =1) \n",
    "conc_data_col"
   ]
  },
  {
   "cell_type": "markdown",
   "id": "fe3d5703",
   "metadata": {},
   "source": [
    "Bu dataframe'leri horizontal yani yatay bir şekildede birleştirebiliriz. Ve yukarıda bu işlem yapılmıştır. \n",
    "\n",
    "'Attack' sütununun ilk 5 satırını data1'e atadık. 'Defense' sütununun ilk 5 satırını data2'ye atadık. \n",
    "\n",
    "axis=1 parametresinden dolayı sütunlar yan yana birleştirilir. Böylece Attack'ın ilk 5 sapmle'sini ve Defense'nin ilk 5 sample'sini birleştirdik. "
   ]
  },
  {
   "cell_type": "markdown",
   "id": "1b4806c1",
   "metadata": {},
   "source": [
    "DATA TYPES"
   ]
  },
  {
   "cell_type": "code",
   "execution_count": 5,
   "id": "026f54ac",
   "metadata": {},
   "outputs": [
    {
     "data": {
      "text/plain": [
       "1"
      ]
     },
     "execution_count": 5,
     "metadata": {},
     "output_type": "execute_result"
    }
   ],
   "source": [
    "int(1.8)"
   ]
  },
  {
   "cell_type": "markdown",
   "id": "bb005087",
   "metadata": {},
   "source": [
    "Yukarıda yapılan, 1.8 değerinin int tipine çevrilmesidir."
   ]
  },
  {
   "cell_type": "code",
   "execution_count": 6,
   "id": "d10111b3",
   "metadata": {},
   "outputs": [
    {
     "data": {
      "text/plain": [
       "2.5"
      ]
     },
     "execution_count": 6,
     "metadata": {},
     "output_type": "execute_result"
    }
   ],
   "source": [
    "float(\"2.5\")"
   ]
  },
  {
   "cell_type": "markdown",
   "id": "7cefa174",
   "metadata": {},
   "source": [
    "Yukarıda yapılan, string ifadenin float tipine çevrilmesidir."
   ]
  },
  {
   "cell_type": "code",
   "execution_count": 7,
   "id": "97c1d1b1",
   "metadata": {},
   "outputs": [
    {
     "data": {
      "text/plain": [
       "#              int64\n",
       "Name          object\n",
       "Type 1        object\n",
       "Type 2        object\n",
       "HP             int64\n",
       "Attack         int64\n",
       "Defense        int64\n",
       "Sp. Atk        int64\n",
       "Sp. Def        int64\n",
       "Speed          int64\n",
       "Generation     int64\n",
       "Legendary       bool\n",
       "dtype: object"
      ]
     },
     "execution_count": 7,
     "metadata": {},
     "output_type": "execute_result"
    }
   ],
   "source": [
    "data.dtypes"
   ]
  },
  {
   "cell_type": "markdown",
   "id": "19ddaf38",
   "metadata": {},
   "source": [
    "Yukarıda yapılan, veri setindeki sütunların veri tipleri görüntülenmiştir."
   ]
  },
  {
   "cell_type": "code",
   "execution_count": 8,
   "id": "d92f35dd",
   "metadata": {},
   "outputs": [],
   "source": [
    "data['Type 1'] = data['Type 1'].astype('category')\n",
    "data['Speed'] = data['Speed'].astype('float')"
   ]
  },
  {
   "cell_type": "code",
   "execution_count": 9,
   "id": "5e99a902",
   "metadata": {},
   "outputs": [
    {
     "data": {
      "text/plain": [
       "#                int64\n",
       "Name            object\n",
       "Type 1        category\n",
       "Type 2          object\n",
       "HP               int64\n",
       "Attack           int64\n",
       "Defense          int64\n",
       "Sp. Atk          int64\n",
       "Sp. Def          int64\n",
       "Speed          float64\n",
       "Generation       int64\n",
       "Legendary         bool\n",
       "dtype: object"
      ]
     },
     "execution_count": 9,
     "metadata": {},
     "output_type": "execute_result"
    }
   ],
   "source": [
    "data.dtypes"
   ]
  },
  {
   "cell_type": "markdown",
   "id": "191fa8ae",
   "metadata": {},
   "source": [
    "Yukarıda yapılan, Type1 sütununun veri tipi object yani string'ti ve bunu category tipine dönüştürdük.\n",
    "\n",
    "Ve Speed sütununun tipi int idi, float tipine dönüştürüldü."
   ]
  }
 ],
 "metadata": {
  "kernelspec": {
   "display_name": "Python 3 (ipykernel)",
   "language": "python",
   "name": "python3"
  },
  "language_info": {
   "codemirror_mode": {
    "name": "ipython",
    "version": 3
   },
   "file_extension": ".py",
   "mimetype": "text/x-python",
   "name": "python",
   "nbconvert_exporter": "python",
   "pygments_lexer": "ipython3",
   "version": "3.9.7"
  }
 },
 "nbformat": 4,
 "nbformat_minor": 5
}
