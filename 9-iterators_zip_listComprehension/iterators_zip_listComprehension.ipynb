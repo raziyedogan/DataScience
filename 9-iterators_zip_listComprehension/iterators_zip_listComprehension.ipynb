{
 "cells": [
  {
   "cell_type": "markdown",
   "id": "62f5ed6a",
   "metadata": {},
   "source": [
    "ITERATORS\n",
    "\n",
    "list, string ve dictionary birer iterable nesneleridir. Aslında liste içerisindeki elemanlara for döngüsü ile erişmek gibi bir işlem yapmakta.\n",
    "\n",
    "Koda dökelim."
   ]
  },
  {
   "cell_type": "code",
   "execution_count": 2,
   "id": "5df3a77e",
   "metadata": {},
   "outputs": [
    {
     "name": "stdout",
     "output_type": "stream",
     "text": [
      "b\n",
      "l a c k\n"
     ]
    }
   ],
   "source": [
    "name = \"black\"\n",
    "it = iter(name)\n",
    "print(next(it))    \n",
    "print(*it) "
   ]
  },
  {
   "cell_type": "markdown",
   "id": "6dc25eed",
   "metadata": {},
   "source": [
    "it = iter(name) satırında: name değişkeninde tutulan veriye yineleme uygulayacağız.\n",
    "\n",
    "print(next(it)) satırında: it değişkeninde tutulan, yineleme uygulayacağımız \"black\" stringinin ilk harfini yazdırdık.\n",
    "\n",
    "print(*it) satırında: \"black\" stringinin geri kalan harflerini elde ederiz.\n",
    "\n",
    "Iterable yapısının yaptığı işlemi for, while döngüleriyle de yapabildiğimiz için genelde iterable yapısını kullanmayız. Fakat bilmemizde fayda var."
   ]
  },
  {
   "cell_type": "markdown",
   "id": "999a4606",
   "metadata": {},
   "source": [
    "zip() METODU\n",
    "\n"
   ]
  },
  {
   "cell_type": "code",
   "execution_count": 3,
   "id": "0112c6a3",
   "metadata": {},
   "outputs": [
    {
     "name": "stdout",
     "output_type": "stream",
     "text": [
      "<zip object at 0x0000024E359C9F80>\n",
      "[(1, 5), (2, 6), (3, 7), (4, 8)]\n"
     ]
    }
   ],
   "source": [
    "list1 = [1,2,3,4]\n",
    "list2 = [5,6,7,8]\n",
    "z = zip(list1,list2)\n",
    "print(z)      #zip objesini oluşturduk.\n",
    "z_list = list(z)     #z'de tutulan değerleri listeye çevirdik.\n",
    "print(z_list)"
   ]
  },
  {
   "cell_type": "markdown",
   "id": "a2543f38",
   "metadata": {},
   "source": [
    "list1 'deki değerler indisleri ifade eder. list2'deki elemanlar, list1'deki indis olarak nitelendirdiğimiz elemanlara karşılık gelen değerlerdir. 1.indeks 5, 2.indeks 6, 3.indeks 7, 4.indeks 8 şeklinde yazdırmak istersek zip() metodundan yardım alabiliriz.\n",
    "\n",
    "Birde unzip yapalım. zip(*) şeklinde bir yapı kullanırız. unzip işleminden sonra 2 adet tuple obje döner. \n",
    "\n",
    "Koda dökelim."
   ]
  },
  {
   "cell_type": "code",
   "execution_count": 4,
   "id": "5956aeed",
   "metadata": {},
   "outputs": [
    {
     "name": "stdout",
     "output_type": "stream",
     "text": [
      "(1, 2, 3, 4)\n",
      "(5, 6, 7, 8)\n",
      "<class 'tuple'>\n"
     ]
    }
   ],
   "source": [
    "un_zip = zip(*z_list)\n",
    "un_list1,un_list2 = list(un_zip) \n",
    "print(un_list1)\n",
    "print(un_list2)\n",
    "print(type(un_list2))"
   ]
  },
  {
   "cell_type": "markdown",
   "id": "04f73ed8",
   "metadata": {},
   "source": [
    "LIST COMPREHENSİON\n",
    "\n",
    "Çok sık kullandığımız bir yapıdır. Bu yapıyı pandas kütüphanesinde yeni feature'ler oluşturmak için kullanacağız. \n",
    "\n",
    "Mesela, num1 = [1,2,3] ve biz bunu num2 = [2,3,4] şeklinde yapmak istiyoruz. Bu, for döngüsü ile yapılabilir ancak gereksiz uzun olacaktır. List comprehesion ile kolaylıkla yapabiliriz."
   ]
  },
  {
   "cell_type": "code",
   "execution_count": 5,
   "id": "448cb699",
   "metadata": {},
   "outputs": [
    {
     "name": "stdout",
     "output_type": "stream",
     "text": [
      "[2, 3, 4]\n"
     ]
    }
   ],
   "source": [
    "num1 = [1,2,3]\n",
    "num2 = [i + 1 for i in num1 ]\n",
    "print(num2)"
   ]
  },
  {
   "cell_type": "markdown",
   "id": "338729f4",
   "metadata": {},
   "source": [
    "num1 listesinin içerisindeki her bir elemana 1 ekleyerek döndürür. Ve elde edilen ifade num2 listesinde tutulur."
   ]
  },
  {
   "cell_type": "code",
   "execution_count": 6,
   "id": "f7e6609d",
   "metadata": {},
   "outputs": [
    {
     "name": "stdout",
     "output_type": "stream",
     "text": [
      "[0, 100, 20]\n"
     ]
    }
   ],
   "source": [
    "# Conditionals on iterable\n",
    "num1 = [5,10,15]\n",
    "num2 = [i**2 if i == 10 else i-5 if i < 7 else i+5 for i in num1]\n",
    "print(num2)"
   ]
  },
  {
   "cell_type": "markdown",
   "id": "15f0d035",
   "metadata": {},
   "source": [
    "num2 = [i**2 if i == 10 else i-5 if i < 7 else i+5 for i in num1] satırını açıklayalım:\n",
    "\n",
    "num1 listesinin içerisinde dolaşacak bir for oluşturduk. num1 içerisindeki her bir eleman sırasıyla i içerisinde tutulacak. \n",
    "\n",
    "\" i**2 if i == 10 \"  ifadesi ile yapılan, i nin o anki iterasyondaki değeri 10 ise i'nin karesi alınır. \n",
    "\n",
    "\" else i-5 if i < 7 \" ifadesi ile yapılan, else if durumudur. Yani i değeri 7 den küçük ise i değerinden 5 çıkarılır.\n",
    "\n",
    "\" else i+5 for i in num1 \" ifadesi ile yapılan, i değeri 10 veya 7'den küçük değil ise i değerine 5 eklenir."
   ]
  },
  {
   "cell_type": "markdown",
   "id": "f714a7e6",
   "metadata": {},
   "source": [
    "Peki bunu pandas ile nasıl kullanacağımıza bakalım."
   ]
  },
  {
   "cell_type": "code",
   "execution_count": 8,
   "id": "20de78fe",
   "metadata": {},
   "outputs": [
    {
     "name": "stdout",
     "output_type": "stream",
     "text": [
      "threshold : 68.2775\n"
     ]
    },
    {
     "data": {
      "text/html": [
       "<div>\n",
       "<style scoped>\n",
       "    .dataframe tbody tr th:only-of-type {\n",
       "        vertical-align: middle;\n",
       "    }\n",
       "\n",
       "    .dataframe tbody tr th {\n",
       "        vertical-align: top;\n",
       "    }\n",
       "\n",
       "    .dataframe thead th {\n",
       "        text-align: right;\n",
       "    }\n",
       "</style>\n",
       "<table border=\"1\" class=\"dataframe\">\n",
       "  <thead>\n",
       "    <tr style=\"text-align: right;\">\n",
       "      <th></th>\n",
       "      <th>speed_level</th>\n",
       "      <th>Speed</th>\n",
       "    </tr>\n",
       "  </thead>\n",
       "  <tbody>\n",
       "    <tr>\n",
       "      <th>0</th>\n",
       "      <td>low</td>\n",
       "      <td>45</td>\n",
       "    </tr>\n",
       "    <tr>\n",
       "      <th>1</th>\n",
       "      <td>low</td>\n",
       "      <td>60</td>\n",
       "    </tr>\n",
       "    <tr>\n",
       "      <th>2</th>\n",
       "      <td>high</td>\n",
       "      <td>80</td>\n",
       "    </tr>\n",
       "    <tr>\n",
       "      <th>3</th>\n",
       "      <td>high</td>\n",
       "      <td>80</td>\n",
       "    </tr>\n",
       "    <tr>\n",
       "      <th>4</th>\n",
       "      <td>low</td>\n",
       "      <td>65</td>\n",
       "    </tr>\n",
       "    <tr>\n",
       "      <th>5</th>\n",
       "      <td>high</td>\n",
       "      <td>80</td>\n",
       "    </tr>\n",
       "    <tr>\n",
       "      <th>6</th>\n",
       "      <td>high</td>\n",
       "      <td>100</td>\n",
       "    </tr>\n",
       "    <tr>\n",
       "      <th>7</th>\n",
       "      <td>high</td>\n",
       "      <td>100</td>\n",
       "    </tr>\n",
       "    <tr>\n",
       "      <th>8</th>\n",
       "      <td>high</td>\n",
       "      <td>100</td>\n",
       "    </tr>\n",
       "    <tr>\n",
       "      <th>9</th>\n",
       "      <td>low</td>\n",
       "      <td>43</td>\n",
       "    </tr>\n",
       "    <tr>\n",
       "      <th>10</th>\n",
       "      <td>low</td>\n",
       "      <td>58</td>\n",
       "    </tr>\n",
       "  </tbody>\n",
       "</table>\n",
       "</div>"
      ],
      "text/plain": [
       "   speed_level  Speed\n",
       "0          low     45\n",
       "1          low     60\n",
       "2         high     80\n",
       "3         high     80\n",
       "4          low     65\n",
       "5         high     80\n",
       "6         high    100\n",
       "7         high    100\n",
       "8         high    100\n",
       "9          low     43\n",
       "10         low     58"
      ]
     },
     "execution_count": 8,
     "metadata": {},
     "output_type": "execute_result"
    }
   ],
   "source": [
    "import pandas as pd\n",
    "\n",
    "data = pd.read_csv(\"pokemon.csv\")\n",
    "\n",
    "threshold = sum(data.Speed)/len(data.Speed)\n",
    "print(\"threshold :\",threshold)\n",
    "\n",
    "data[\"speed_level\"] = [\"high\" if i > threshold else \"low\" for i in data.Speed]\n",
    "data.loc[:10,[\"speed_level\",\"Speed\"]] # we will learn loc more detailed later"
   ]
  },
  {
   "cell_type": "markdown",
   "id": "f93075fd",
   "metadata": {},
   "source": [
    "Bir üst blokta olanları açıklayalım.\n",
    "\n",
    "pokemon.csv veri setini çağırdık. Sonra bir eşik değeri(threshold) belirledik. threshold değişkenine, veri setindeki hız sayısını(speed sütunundaki veri adeti) veri setindeki tüm hızların(speed sütunu) toplamına bölüm sonucunu atadık ve böylece eşik değeri, ortalama hız değeri oldu. Sonra data'mıza speed_level isimli yeni bir feature(sütun) oluşturuyoruz. data.Speed objesinin içerisindeki her bir elemana sırasıyla i dedik. \"if i > threshold\" şartında belirtildiği üzere o anki iterasyondaki i değeri  threshold değerinden büyük ise \"high\" demektir. Eğer tam tersi ise \"low\" demektir. Böylelikle speed_level sütununa ait veriler \"high\" ve \"low\" ifadelerinden oluşacaktır."
   ]
  }
 ],
 "metadata": {
  "kernelspec": {
   "display_name": "Python 3 (ipykernel)",
   "language": "python",
   "name": "python3"
  },
  "language_info": {
   "codemirror_mode": {
    "name": "ipython",
    "version": 3
   },
   "file_extension": ".py",
   "mimetype": "text/x-python",
   "name": "python",
   "nbconvert_exporter": "python",
   "pygments_lexer": "ipython3",
   "version": "3.9.7"
  }
 },
 "nbformat": 4,
 "nbformat_minor": 5
}
