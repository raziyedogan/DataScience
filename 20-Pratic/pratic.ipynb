{
 "cells": [
  {
   "cell_type": "markdown",
   "id": "439d96cb",
   "metadata": {},
   "source": [
    "Soru-1:"
   ]
  },
  {
   "cell_type": "code",
   "execution_count": null,
   "id": "aff11688",
   "metadata": {},
   "outputs": [],
   "source": []
  },
  {
   "cell_type": "code",
   "execution_count": 4,
   "id": "06fa996c",
   "metadata": {},
   "outputs": [
    {
     "data": {
      "text/plain": [
       "{2: 'x', 3: 'y'}"
      ]
     },
     "execution_count": 4,
     "metadata": {},
     "output_type": "execute_result"
    }
   ],
   "source": [
    "a = {\"x\":2,\"y\":3}\n",
    "\n",
    "b = dict(zip(a.values(),a.keys()))\n",
    "b"
   ]
  },
  {
   "cell_type": "markdown",
   "id": "018491e0",
   "metadata": {},
   "source": [
    "Soru-2:"
   ]
  },
  {
   "cell_type": "code",
   "execution_count": 3,
   "id": "b43ffc9c",
   "metadata": {},
   "outputs": [
    {
     "data": {
      "text/plain": [
       "0      ali\n",
       "1     veli\n",
       "2    kenan\n",
       "3    hilal\n",
       "4     ayse\n",
       "5    evren\n",
       "0      100\n",
       "1      150\n",
       "2      240\n",
       "3      350\n",
       "4      110\n",
       "5      220\n",
       "dtype: object"
      ]
     },
     "execution_count": 3,
     "metadata": {},
     "output_type": "execute_result"
    }
   ],
   "source": [
    "import pandas as pd\n",
    "\n",
    "\n",
    "\n",
    "dictionary = {\"NAME\":[\"ali\",\"veli\",\"kenan\",\"hilal\",\"ayse\",\"evren\"],\n",
    "\n",
    "              \"AGE\":[15,16,17,33,45,66],\n",
    "\n",
    "              \"MAAS\": [100,150,240,350,110,220]}\n",
    "\n",
    "\n",
    "\n",
    "dataFrame1 = pd.DataFrame(dictionary)\n",
    "\n",
    "\n",
    "\n",
    "pd.concat([dataFrame1[\"NAME\"],dataFrame1[\"MAAS\"]],axis=0)"
   ]
  },
  {
   "cell_type": "markdown",
   "id": "f3bd1523",
   "metadata": {},
   "source": [
    "Soru-3:"
   ]
  },
  {
   "cell_type": "code",
   "execution_count": 6,
   "id": "ffe44855",
   "metadata": {},
   "outputs": [
    {
     "data": {
      "text/plain": [
       "Index(['NAME', 'AGE', 'MAAS'], dtype='object')"
      ]
     },
     "execution_count": 6,
     "metadata": {},
     "output_type": "execute_result"
    }
   ],
   "source": [
    "import pandas as pd\n",
    "\n",
    "dictionary = {\"NAME\":[\"ali\",\"veli\",\"kenan\",\"hilal\",\"ayse\",\"evren\"],\n",
    "\n",
    "              \"AGE\":[15,16,17,33,45,66],\n",
    "\n",
    "              \"MAAS\": [100,150,240,350,110,220]}\n",
    "\n",
    "dataFrame1 = pd.DataFrame(dictionary)\n",
    "\n",
    "\n",
    "\n",
    "dataFrame1.columns"
   ]
  },
  {
   "cell_type": "markdown",
   "id": "092d9370",
   "metadata": {},
   "source": [
    "Soru-4:"
   ]
  },
  {
   "cell_type": "code",
   "execution_count": 9,
   "id": "5857674d",
   "metadata": {},
   "outputs": [
    {
     "name": "stdout",
     "output_type": "stream",
     "text": [
      "    NAME  AGE  MAAS\n",
      "3  hilal   33   350\n"
     ]
    }
   ],
   "source": [
    "import pandas as pd\n",
    "\n",
    "dictionary = {\"NAME\":[\"ali\",\"veli\",\"kenan\",\"hilal\",\"ayse\",\"evren\"],\n",
    "\n",
    "              \"AGE\":[15,16,17,33,45,66],\n",
    "\n",
    "              \"MAAS\": [100,150,240,350,110,220]}\n",
    "\n",
    "dataFrame1 = pd.DataFrame(dictionary)\n",
    "\n",
    "filtre1 = dataFrame1.MAAS > 300\n",
    "print(dataFrame1[filtre1])"
   ]
  },
  {
   "cell_type": "markdown",
   "id": "d2e21002",
   "metadata": {},
   "source": [
    "Soru-5:"
   ]
  },
  {
   "cell_type": "code",
   "execution_count": 10,
   "id": "f2397f4a",
   "metadata": {},
   "outputs": [
    {
     "name": "stdout",
     "output_type": "stream",
     "text": [
      "0\n",
      "1\n",
      "2\n",
      "3\n",
      "4\n"
     ]
    }
   ],
   "source": [
    "a = [0,1,2,3,4]\n",
    "\n",
    "for a[0] in a:\n",
    "\n",
    "    print(a[0])"
   ]
  },
  {
   "cell_type": "markdown",
   "id": "2c7a5639",
   "metadata": {},
   "source": [
    "Soru-6:"
   ]
  },
  {
   "cell_type": "code",
   "execution_count": 11,
   "id": "4deee61d",
   "metadata": {},
   "outputs": [
    {
     "data": {
      "text/plain": [
       "9"
      ]
     },
     "execution_count": 11,
     "metadata": {},
     "output_type": "execute_result"
    }
   ],
   "source": [
    "y = 3\n",
    "\n",
    "z = lambda x:x*y\n",
    "\n",
    "z(3)"
   ]
  },
  {
   "cell_type": "markdown",
   "id": "d363d84e",
   "metadata": {},
   "source": [
    "Soru-7:"
   ]
  },
  {
   "cell_type": "code",
   "execution_count": 14,
   "id": "98c830a9",
   "metadata": {},
   "outputs": [
    {
     "name": "stdout",
     "output_type": "stream",
     "text": [
      "6\n",
      "8\n"
     ]
    }
   ],
   "source": [
    "def s(x, y = 2):\n",
    "\n",
    "    c = 2\n",
    "\n",
    "    for i in range(y):\n",
    "\n",
    "        c = c + x\n",
    "\n",
    "    return c\n",
    "\n",
    "print(s(2))\n",
    "\n",
    "print(s(2,3))"
   ]
  },
  {
   "cell_type": "code",
   "execution_count": 15,
   "id": "e392338e",
   "metadata": {},
   "outputs": [
    {
     "name": "stdout",
     "output_type": "stream",
     "text": [
      "[2, 4, 25, 0]\n"
     ]
    }
   ],
   "source": [
    "num1 = [3,2,5,1]\n",
    "\n",
    "num2 = [i**2 if i % 3 == 2 else i-1  for i in num1]\n",
    "\n",
    "print(num2)"
   ]
  }
 ],
 "metadata": {
  "kernelspec": {
   "display_name": "Python 3 (ipykernel)",
   "language": "python",
   "name": "python3"
  },
  "language_info": {
   "codemirror_mode": {
    "name": "ipython",
    "version": 3
   },
   "file_extension": ".py",
   "mimetype": "text/x-python",
   "name": "python",
   "nbconvert_exporter": "python",
   "pygments_lexer": "ipython3",
   "version": "3.9.7"
  }
 },
 "nbformat": 4,
 "nbformat_minor": 5
}
