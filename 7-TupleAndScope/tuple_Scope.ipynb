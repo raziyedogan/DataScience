{
 "cells": [
  {
   "cell_type": "code",
   "execution_count": 1,
   "id": "152ad785",
   "metadata": {},
   "outputs": [
    {
     "name": "stdout",
     "output_type": "stream",
     "text": [
      "1 2 3\n"
     ]
    }
   ],
   "source": [
    "def tuple_ex():\n",
    "    \"\"\" return defined t tuple\"\"\"\n",
    "    t = (1,2,3)\n",
    "    return t\n",
    "a,b,c = tuple_ex()\n",
    "print(a,b,c)"
   ]
  },
  {
   "cell_type": "markdown",
   "id": "0fcffcb6",
   "metadata": {},
   "source": [
    "Tuple yapısını return eden bir fonksiyon oluşturduk. Daha sonra a,b,c = tuple_ex() satırında fonksiyondan dönen tuple yapısını parçalayarak içerisindeki değerleri 3 farklı değişkene atadık. Binevi a=1, b=2, c=3 şeklinde.\n",
    "\n",
    "Fonksiyondan dönen değeri bu şekilde farklı değişkenlerde tutmamız gerekirse, tuple yapısı ile yapabiliriz."
   ]
  },
  {
   "cell_type": "code",
   "execution_count": 2,
   "id": "0d7abde6",
   "metadata": {},
   "outputs": [
    {
     "name": "stdout",
     "output_type": "stream",
     "text": [
      "2\n",
      "3\n"
     ]
    }
   ],
   "source": [
    "#SCOPE\n",
    "\n",
    "x = 2\n",
    "def f():\n",
    "    x = 3\n",
    "    return x\n",
    "print(x)      # x = 2 global scope\n",
    "print(f())    # x = 3 local scope"
   ]
  },
  {
   "cell_type": "markdown",
   "id": "d7b577e4",
   "metadata": {},
   "source": [
    "Herkes tarafından erişilebilen yani main body'de yer alan değişkenlere global scope denir.\n",
    "\n",
    "Fonksiyon içerisinde tanımlanan ve sadece fonksiyon içerisinde kullanılabilen değişkenlere local scope denir.\n",
    "\n",
    "Yukarıdaki kodda, print(x) ifadesi main body'de bulunduğundan fonksiyon içerisindeki x değişkenini görmez. Main body'de bulunan x=2 değişkenini görür ve bunu yazdırır.\n",
    "\n",
    "print(f()) ifadesi fonksiyonun içerisinde tanımlanan x=3 local değişkenini görür ve bunu yazdırır."
   ]
  },
  {
   "cell_type": "code",
   "execution_count": 3,
   "id": "b9daba93",
   "metadata": {},
   "outputs": [
    {
     "name": "stdout",
     "output_type": "stream",
     "text": [
      "10\n"
     ]
    }
   ],
   "source": [
    "x = 5\n",
    "def f():\n",
    "    y = 2*x        # there is no local scope x\n",
    "    return y\n",
    "print(f())         # it uses global scope x  "
   ]
  },
  {
   "cell_type": "markdown",
   "id": "daf7a898",
   "metadata": {},
   "source": [
    "Fonksiyon içerisinde x değişkeni var fakat bu değişken fonksiyon içerisinde tanımlı değil. Bu durumda global bir x değişkeni var mı ona bakılır. Global x=5 var ve bu durumda fonksiyon içeriisndeki x yerine 5 değeri konularak y=2*5 'den 10 değeri yazdırılır.\n",
    "\n",
    "Öncelikle local scope aranır. Eğer local scope yok ise global scope aranır. Eğer global scope de yok ise built in scope aranır.\n",
    "\n",
    "Şimdi built in scope kavramını inceleyelim."
   ]
  },
  {
   "cell_type": "code",
   "execution_count": 4,
   "id": "11aa1ed0",
   "metadata": {},
   "outputs": [
    {
     "data": {
      "text/plain": [
       "['ArithmeticError',\n",
       " 'AssertionError',\n",
       " 'AttributeError',\n",
       " 'BaseException',\n",
       " 'BlockingIOError',\n",
       " 'BrokenPipeError',\n",
       " 'BufferError',\n",
       " 'BytesWarning',\n",
       " 'ChildProcessError',\n",
       " 'ConnectionAbortedError',\n",
       " 'ConnectionError',\n",
       " 'ConnectionRefusedError',\n",
       " 'ConnectionResetError',\n",
       " 'DeprecationWarning',\n",
       " 'EOFError',\n",
       " 'Ellipsis',\n",
       " 'EnvironmentError',\n",
       " 'Exception',\n",
       " 'False',\n",
       " 'FileExistsError',\n",
       " 'FileNotFoundError',\n",
       " 'FloatingPointError',\n",
       " 'FutureWarning',\n",
       " 'GeneratorExit',\n",
       " 'IOError',\n",
       " 'ImportError',\n",
       " 'ImportWarning',\n",
       " 'IndentationError',\n",
       " 'IndexError',\n",
       " 'InterruptedError',\n",
       " 'IsADirectoryError',\n",
       " 'KeyError',\n",
       " 'KeyboardInterrupt',\n",
       " 'LookupError',\n",
       " 'MemoryError',\n",
       " 'ModuleNotFoundError',\n",
       " 'NameError',\n",
       " 'None',\n",
       " 'NotADirectoryError',\n",
       " 'NotImplemented',\n",
       " 'NotImplementedError',\n",
       " 'OSError',\n",
       " 'OverflowError',\n",
       " 'PendingDeprecationWarning',\n",
       " 'PermissionError',\n",
       " 'ProcessLookupError',\n",
       " 'RecursionError',\n",
       " 'ReferenceError',\n",
       " 'ResourceWarning',\n",
       " 'RuntimeError',\n",
       " 'RuntimeWarning',\n",
       " 'StopAsyncIteration',\n",
       " 'StopIteration',\n",
       " 'SyntaxError',\n",
       " 'SyntaxWarning',\n",
       " 'SystemError',\n",
       " 'SystemExit',\n",
       " 'TabError',\n",
       " 'TimeoutError',\n",
       " 'True',\n",
       " 'TypeError',\n",
       " 'UnboundLocalError',\n",
       " 'UnicodeDecodeError',\n",
       " 'UnicodeEncodeError',\n",
       " 'UnicodeError',\n",
       " 'UnicodeTranslateError',\n",
       " 'UnicodeWarning',\n",
       " 'UserWarning',\n",
       " 'ValueError',\n",
       " 'Warning',\n",
       " 'WindowsError',\n",
       " 'ZeroDivisionError',\n",
       " '__IPYTHON__',\n",
       " '__build_class__',\n",
       " '__debug__',\n",
       " '__doc__',\n",
       " '__import__',\n",
       " '__loader__',\n",
       " '__name__',\n",
       " '__package__',\n",
       " '__spec__',\n",
       " 'abs',\n",
       " 'all',\n",
       " 'any',\n",
       " 'ascii',\n",
       " 'bin',\n",
       " 'bool',\n",
       " 'breakpoint',\n",
       " 'bytearray',\n",
       " 'bytes',\n",
       " 'callable',\n",
       " 'chr',\n",
       " 'classmethod',\n",
       " 'compile',\n",
       " 'complex',\n",
       " 'copyright',\n",
       " 'credits',\n",
       " 'delattr',\n",
       " 'dict',\n",
       " 'dir',\n",
       " 'display',\n",
       " 'divmod',\n",
       " 'enumerate',\n",
       " 'eval',\n",
       " 'exec',\n",
       " 'execfile',\n",
       " 'filter',\n",
       " 'float',\n",
       " 'format',\n",
       " 'frozenset',\n",
       " 'get_ipython',\n",
       " 'getattr',\n",
       " 'globals',\n",
       " 'hasattr',\n",
       " 'hash',\n",
       " 'help',\n",
       " 'hex',\n",
       " 'id',\n",
       " 'input',\n",
       " 'int',\n",
       " 'isinstance',\n",
       " 'issubclass',\n",
       " 'iter',\n",
       " 'len',\n",
       " 'license',\n",
       " 'list',\n",
       " 'locals',\n",
       " 'map',\n",
       " 'max',\n",
       " 'memoryview',\n",
       " 'min',\n",
       " 'next',\n",
       " 'object',\n",
       " 'oct',\n",
       " 'open',\n",
       " 'ord',\n",
       " 'pow',\n",
       " 'print',\n",
       " 'property',\n",
       " 'range',\n",
       " 'repr',\n",
       " 'reversed',\n",
       " 'round',\n",
       " 'runfile',\n",
       " 'set',\n",
       " 'setattr',\n",
       " 'slice',\n",
       " 'sorted',\n",
       " 'staticmethod',\n",
       " 'str',\n",
       " 'sum',\n",
       " 'super',\n",
       " 'tuple',\n",
       " 'type',\n",
       " 'vars',\n",
       " 'zip']"
      ]
     },
     "execution_count": 4,
     "metadata": {},
     "output_type": "execute_result"
    }
   ],
   "source": [
    "import builtins\n",
    "dir(builtins)"
   ]
  },
  {
   "cell_type": "markdown",
   "id": "b0252f6b",
   "metadata": {},
   "source": [
    "Python tarafından daha önceden belli bir görev için tanımlanmış fonksiyonlar built in scope 'dir. Python tarafından kullanılan print, len, type gibi isimler built in scope olarak geçiyor. \n",
    "\n",
    "Built in scope'leri öğrenmek için yukarıdaki kod bloğunu oluştururuz. import builtins ifadesinde builtins kelimesinin sonunda bulunan s, scope anlamına gelir. dir(builtins) ifadesi ilede tüm built in scope'leri görüntüleyebiliriz. Çıktıda gördüğümüz her bir built in scope'nin python'da bir anlamı var. "
   ]
  }
 ],
 "metadata": {
  "kernelspec": {
   "display_name": "Python 3 (ipykernel)",
   "language": "python",
   "name": "python3"
  },
  "language_info": {
   "codemirror_mode": {
    "name": "ipython",
    "version": 3
   },
   "file_extension": ".py",
   "mimetype": "text/x-python",
   "name": "python",
   "nbconvert_exporter": "python",
   "pygments_lexer": "ipython3",
   "version": "3.9.7"
  }
 },
 "nbformat": 4,
 "nbformat_minor": 5
}
