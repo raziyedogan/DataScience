{
 "cells": [
  {
   "cell_type": "markdown",
   "id": "5828a107",
   "metadata": {},
   "source": [
    "Görsel bir şekilde veri setini analiz edelim.\n",
    "\n",
    "Bu amaç için kullanılan ilk metod, boxplot() metodudur. Bu metod ile aykırı değerler(outliers), min/max veya quantiles gibi temel istatistikleri görselleştirebilmemiz mümkün."
   ]
  },
  {
   "cell_type": "code",
   "execution_count": 1,
   "id": "1e0a5724",
   "metadata": {},
   "outputs": [],
   "source": [
    "import pandas as pd\n",
    "\n",
    "data = pd.read_csv(\"pokemon.csv\")"
   ]
  },
  {
   "cell_type": "code",
   "execution_count": 2,
   "id": "454201da",
   "metadata": {},
   "outputs": [
    {
     "data": {
      "text/plain": [
       "<AxesSubplot:title={'center':'Attack'}, xlabel='Legendary'>"
      ]
     },
     "execution_count": 2,
     "metadata": {},
     "output_type": "execute_result"
    },
    {
     "data": {
      "image/png": "[encoded data removed]",
      "text/plain": [
       "<Figure size 432x288 with 1 Axes>"
      ]
     },
     "metadata": {
      "needs_background": "light"
     },
     "output_type": "display_data"
    }
   ],
   "source": [
    "data.boxplot(column='Attack',by = 'Legendary')"
   ]
  },
  {
   "cell_type": "markdown",
   "id": "f4607776",
   "metadata": {},
   "source": [
    "Bir üst satırda, pokemonların saldırılarının(Attack) efsanevi(Legendary) olup olmamasına göre plot ettiriyoruz.\n",
    "\n",
    "<img src=\"boxplot_output.png\" style=\"width:400px;height:400px\"/>\n",
    "\n",
    "Çıktıda Maximum, upper quartile(Q3), Median, lower quartile(Q1), Minimum değerlerine karşılık gelen kısımları yukarıdaki görselden görebilirsiniz. IQR=Q3-Q1 olduğunuda hatırlayın. \n",
    "\n",
    "Maximum ile upper quartile kısımları arasındaki uzunluk 1.5 IQR dır. Lower quartile ile minimum kısımları arasındaki uzunluk 1.5 IQR dır.\n",
    "\n",
    "1.5 IQR'ın üzerinde outlier değerler vardır. Görselde outlier değerler küçük daireler şeklinde belirtilmiştir. Outlier değerler(aykırı değerler), istatistiksel olarak data'yı bozan, zarar veren ve sonuçları etkileyen değerlerdir. \n",
    "\n",
    "Bu görselden anlayacağımız ifade, pokemonların Attack değerleri var fakat bu değerlerin bazıları biraz fazla. Yani küçük dairelerin ifade ettiği, 'bu değerler doğru mu?' , 'bu değerler ne kadar doğru?' sorularıdır. Cevap 'Evet, doğru' ise, 'başka bunun gibi değerler olursa data nasıl değişir?' sorusu bizi karşılar. Çünkü bunlar aykırı değerler olduklarından model bunları ele alacak, handle edecek şekilde kurulmamış demektir. Bu yüzden bu değerlere ne kadar dikkat edilmeli gibi sorular ortaya çıkıyor.\n",
    "\n",
    "Sonuç olarak boxplot() metodu ile incelediğimiz data'nın görselini elde ettik."
   ]
  }
 ],
 "metadata": {
  "kernelspec": {
   "display_name": "Python 3 (ipykernel)",
   "language": "python",
   "name": "python3"
  },
  "language_info": {
   "codemirror_mode": {
    "name": "ipython",
    "version": 3
   },
   "file_extension": ".py",
   "mimetype": "text/x-python",
   "name": "python",
   "nbconvert_exporter": "python",
   "pygments_lexer": "ipython3",
   "version": "3.9.7"
  }
 },
 "nbformat": 4,
 "nbformat_minor": 5
}
