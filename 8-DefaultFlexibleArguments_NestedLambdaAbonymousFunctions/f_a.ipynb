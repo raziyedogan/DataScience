{
 "cells": [
  {
   "cell_type": "markdown",
   "id": "ecc90a45",
   "metadata": {},
   "source": [
    "NESTED FUNCTION\n",
    "\n",
    "Bir fonksiyon içerisinde bir fonksiyon oluşturduğumuzda, bu fonksiyona nested function denir. Yani nested function, iç içe fonksiyonlar anlamına gelir.\n",
    "\n",
    "Nested function'u koda dökelim. \n",
    "\n",
    "square isimli bir fonksiyon tanımlayalım ve bu fonksiyon bir değerin karesini döndürsün. Birde square fonksiyonun içerisinde sum isimli bir fonksiyon oluşturalım ve bu fonksiyon iki tane local scope'un toplamını döndürsün. square fonksiyonunda bir değerin karesinin alınacağını söylemiştik ve karesi alınacak değer, sum fonksiyonundan dönen değer olsun. Sonrasında square fonksiyonundan dönen değeri yazdıralım."
   ]
  },
  {
   "cell_type": "code",
   "execution_count": 1,
   "id": "3341ae29",
   "metadata": {},
   "outputs": [
    {
     "name": "stdout",
     "output_type": "stream",
     "text": [
      "100\n"
     ]
    }
   ],
   "source": [
    "#nested function\n",
    "def square():\n",
    "    \n",
    "    def sum():\n",
    "        x = 6\n",
    "        y = 4\n",
    "        result = x + y\n",
    "        return result\n",
    "    return sum()**2\n",
    "print(square())"
   ]
  },
  {
   "cell_type": "markdown",
   "id": "359150fc",
   "metadata": {},
   "source": [
    "DEFAULT ARGUMENT\n",
    "\n",
    "def f(a, b=1):\n",
    "\n",
    "Yukarıdaki ifadeyi inceleyelim. f isimli bir fonksiyon var. Bu fonksiyon a ve b parametlerini alıyor. Eğer fonksiyon çağrıldığında, fonksiyona b parametresi gönderilmez ise, default olarak b'nin değeri 1 dir. \n",
    "\n",
    "Şimdi bunu koda dökelim."
   ]
  },
  {
   "cell_type": "code",
   "execution_count": 2,
   "id": "fc237a03",
   "metadata": {},
   "outputs": [
    {
     "name": "stdout",
     "output_type": "stream",
     "text": [
      "8\n",
      "12\n"
     ]
    }
   ],
   "source": [
    "def f(a, b = 1, c = 2):\n",
    "    y = a + b + c\n",
    "    return y\n",
    "print(f(5))\n",
    "print(f(5,4,3))"
   ]
  },
  {
   "cell_type": "markdown",
   "id": "3de8c844",
   "metadata": {},
   "source": [
    "print(f(5)) satırında f fonksiyonuna 5 değerini gönderiyoruz. Bu 5 değeri a parametresine veriliyor. b ve c parametrelerine \n",
    "değer göndermediğimiz için f fonksiyonu oluşturulurken b ve c parametrelerine default olarak verilen değerler kullanılır.\n",
    "y=5+1+2=8 değeri return edilir.\n",
    "\n",
    "print(f(5,4,3)) satırında f fonksiyonunun a,b ve c parametrelerinin her birine değer gönderildiği için b ve c parametrelerinin default değerleri yok sayılarak, bu gönderilen değerler kullanılır. Bu durumda y=5+4+3=12 değeri return edilir."
   ]
  },
  {
   "cell_type": "markdown",
   "id": "fd5f936e",
   "metadata": {},
   "source": [
    "FLEXIBLE ARGUMENT\n",
    "\n",
    "def f(*args):\n",
    "\n",
    "Yukarıdaki ifadeyi inceleyelim. f isimli bir fonksiyon var. Bir fonksiyona göndereceğimiz her bir değer için birer parametre tanımlamak yerine, *args şeklinde bir yapı sayesinde fonksiyona istediğimiz kadar değer gönderebilmemiz mümkün.\n",
    "\n",
    "Bu anlatılanı koda dökelim."
   ]
  },
  {
   "cell_type": "code",
   "execution_count": 3,
   "id": "69bf8ab0",
   "metadata": {},
   "outputs": [
    {
     "name": "stdout",
     "output_type": "stream",
     "text": [
      "1\n",
      "\n",
      "1\n",
      "2\n",
      "3\n",
      "4\n"
     ]
    }
   ],
   "source": [
    "def f(*args):\n",
    "    for i in args:\n",
    "        print(i)\n",
    "f(1)\n",
    "print(\"\")\n",
    "f(1,2,3,4)"
   ]
  },
  {
   "cell_type": "markdown",
   "id": "10c26dbf",
   "metadata": {},
   "source": [
    "f(1) ile fonksiyona bir tane değer gönderdik ve fonksiyon içerisinde bu değeri yazdırdık.\n",
    "\n",
    "f(1,2,3,4) ile fonksiyona dört tane değer gönderdik ve fonksiyon içerisinde bu değerleri yazdırdık."
   ]
  },
  {
   "cell_type": "markdown",
   "id": "b1beb3cd",
   "metadata": {},
   "source": [
    "Şimdide args'ın dictionary yapısı için nasıl kullanıldığını inceleyelim."
   ]
  },
  {
   "cell_type": "code",
   "execution_count": 4,
   "id": "e4e53367",
   "metadata": {},
   "outputs": [
    {
     "name": "stdout",
     "output_type": "stream",
     "text": [
      "weight   1.85\n",
      "age   19\n",
      "sport   tenis\n"
     ]
    }
   ],
   "source": [
    "def f(**kwargs):\n",
    "    for key, value in kwargs.items():               \n",
    "        print(key, \" \", value)\n",
    "f(weight = 1.85, age = 19, sport = 'tenis')"
   ]
  },
  {
   "cell_type": "markdown",
   "id": "60a21208",
   "metadata": {},
   "source": [
    "dictionary yapısı için **kwargs şeklinde bir kullanım mevcuttur. Aynı mantık ile fonksiyon **kwargs ifadesi sayesinde bir çok değer alabilir. Dictionary yapısı söz konusu olduğundan fonksiyona gönderilen değerler key=value şeklinde olacaktır. Fonksiyon içerisinde, dictionary yapısı içerisindeki key ve value değerlerini for döngüsü ile yazdırıyoruz. "
   ]
  },
  {
   "cell_type": "markdown",
   "id": "c1d55903",
   "metadata": {},
   "source": [
    "LAMBDA FUNCTION\n",
    "\n",
    "Bu yapı ile fonksiyonları daha kısa ve kolay bir şekilde yazabilmemiz mümkün. "
   ]
  },
  {
   "cell_type": "code",
   "execution_count": 5,
   "id": "23d67891",
   "metadata": {},
   "outputs": [
    {
     "name": "stdout",
     "output_type": "stream",
     "text": [
      "100\n"
     ]
    }
   ],
   "source": [
    "square = lambda x: x**2     \n",
    "print(square(10))"
   ]
  },
  {
   "cell_type": "markdown",
   "id": "ec82b730",
   "metadata": {},
   "source": [
    "Yukarıda lambda yapısı kullanarak kare alma işlemini kısa bir şekilde yapan fonksiyon oluşturduk. x, input değerimizdir. ve : konularak gerçekleştirilecek işlemi ifade ettik. \n",
    "\n",
    "Birde birden fazla input alan bir lambda fonksiyonu yazalım. "
   ]
  },
  {
   "cell_type": "code",
   "execution_count": 6,
   "id": "14b79fba",
   "metadata": {},
   "outputs": [
    {
     "name": "stdout",
     "output_type": "stream",
     "text": [
      "6\n"
     ]
    }
   ],
   "source": [
    "multiplication = lambda a,b,c: a*b*c   \n",
    "print(multiplication(1,2,3))"
   ]
  },
  {
   "cell_type": "markdown",
   "id": "a89a223e",
   "metadata": {},
   "source": [
    "Fonksiyon a,b ve c şeklinde 3 adet parametre alıyor. Ve fonksiyon bu üç parametrenin çarpım sonucunu return ediyor."
   ]
  },
  {
   "cell_type": "markdown",
   "id": "aeffda0c",
   "metadata": {},
   "source": [
    "ANONYMOUS FUNCTİON\n",
    "\n",
    "Lambda fonksiyonu gibidir. Farkı sadece birden fazla parametre almasıdır.\n",
    "\n",
    "Birde map(func,seq) şeklinde bir yapı var. Bu yapı, fonksiyonda yapılan işlemi bir liste içerisindeki tüm değerlere uygular.\n",
    "\n",
    "Koda dökelim."
   ]
  },
  {
   "cell_type": "code",
   "execution_count": 7,
   "id": "b0390661",
   "metadata": {},
   "outputs": [
    {
     "name": "stdout",
     "output_type": "stream",
     "text": [
      "[1, 4, 9]\n"
     ]
    }
   ],
   "source": [
    "number_list = [1,2,3]\n",
    "y = map(lambda x:x**2,number_list)\n",
    "print(list(y))"
   ]
  },
  {
   "cell_type": "markdown",
   "id": "2bf5c26d",
   "metadata": {},
   "source": [
    "Burada map yapısının yaptığı işlem şudur: number_list içerisindeki değerleri sırasıyla fonksiyona uyguluyor. Yani, öncelikle lambda fonksiyonuna 1 değeri veriliyor ve 1**2 =1 değeri elde ediliyor. Ve elde edilen değer y değişkeninin içerisinde tutuluyor.\n",
    "\n",
    "Sonra, lambda fonksiyonuna 2 değeri veriliyor ve 2**2 =4 değeri elde ediliyor. Ve elde edilen değer y değişkeninin içerisinde tutuluyor.\n",
    "\n",
    "Ve sonrada, lambda fonksiyonuna 3 değeri veriliyor ve 3**2 =9 değeri elde ediliyor. Ve elde edilen değer y değişkeninin içerisinde tutuluyor.\n",
    "\n",
    "Sonrasında y 'nin içeriğini yazdırarak elde ettiğimiz değerleri görebiliyoruz. "
   ]
  }
 ],
 "metadata": {
  "kernelspec": {
   "display_name": "Python 3 (ipykernel)",
   "language": "python",
   "name": "python3"
  },
  "language_info": {
   "codemirror_mode": {
    "name": "ipython",
    "version": 3
   },
   "file_extension": ".py",
   "mimetype": "text/x-python",
   "name": "python",
   "nbconvert_exporter": "python",
   "pygments_lexer": "ipython3",
   "version": "3.9.7"
  }
 },
 "nbformat": 4,
 "nbformat_minor": 5
}
