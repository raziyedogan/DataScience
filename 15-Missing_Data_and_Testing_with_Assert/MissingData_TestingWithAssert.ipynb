{
 "cells": [
  {
   "cell_type": "code",
   "execution_count": 1,
   "id": "cf460cae",
   "metadata": {},
   "outputs": [],
   "source": [
    "import numpy as np\n",
    "import pandas as pd"
   ]
  },
  {
   "cell_type": "code",
   "execution_count": 2,
   "id": "2ef67c44",
   "metadata": {},
   "outputs": [],
   "source": [
    "data = pd.read_csv(\"pokemon.csv\")"
   ]
  },
  {
   "cell_type": "markdown",
   "id": "37c75781",
   "metadata": {},
   "source": [
    "MISSING DATA and TESTING WITH ASSERT\n",
    "\n",
    "Missing Data: bir veride daha önceden tanımlanmamış, bir değeri olmayan şeylerdir. Bir örnek ile daha iyi anlayalım."
   ]
  },
  {
   "cell_type": "code",
   "execution_count": 3,
   "id": "26cdcc19",
   "metadata": {},
   "outputs": [
    {
     "data": {
      "text/html": [
       "<div>\n",
       "<style scoped>\n",
       "    .dataframe tbody tr th:only-of-type {\n",
       "        vertical-align: middle;\n",
       "    }\n",
       "\n",
       "    .dataframe tbody tr th {\n",
       "        vertical-align: top;\n",
       "    }\n",
       "\n",
       "    .dataframe thead th {\n",
       "        text-align: right;\n",
       "    }\n",
       "</style>\n",
       "<table border=\"1\" class=\"dataframe\">\n",
       "  <thead>\n",
       "    <tr style=\"text-align: right;\">\n",
       "      <th></th>\n",
       "      <th>#</th>\n",
       "      <th>Name</th>\n",
       "      <th>Type 1</th>\n",
       "      <th>Type 2</th>\n",
       "      <th>HP</th>\n",
       "      <th>Attack</th>\n",
       "      <th>Defense</th>\n",
       "      <th>Sp. Atk</th>\n",
       "      <th>Sp. Def</th>\n",
       "      <th>Speed</th>\n",
       "      <th>Generation</th>\n",
       "      <th>Legendary</th>\n",
       "    </tr>\n",
       "  </thead>\n",
       "  <tbody>\n",
       "    <tr>\n",
       "      <th>0</th>\n",
       "      <td>1</td>\n",
       "      <td>Bulbasaur</td>\n",
       "      <td>Grass</td>\n",
       "      <td>Poison</td>\n",
       "      <td>45</td>\n",
       "      <td>49</td>\n",
       "      <td>49</td>\n",
       "      <td>65</td>\n",
       "      <td>65</td>\n",
       "      <td>45</td>\n",
       "      <td>1</td>\n",
       "      <td>False</td>\n",
       "    </tr>\n",
       "    <tr>\n",
       "      <th>1</th>\n",
       "      <td>2</td>\n",
       "      <td>Ivysaur</td>\n",
       "      <td>Grass</td>\n",
       "      <td>Poison</td>\n",
       "      <td>60</td>\n",
       "      <td>62</td>\n",
       "      <td>63</td>\n",
       "      <td>80</td>\n",
       "      <td>80</td>\n",
       "      <td>60</td>\n",
       "      <td>1</td>\n",
       "      <td>False</td>\n",
       "    </tr>\n",
       "    <tr>\n",
       "      <th>2</th>\n",
       "      <td>3</td>\n",
       "      <td>Venusaur</td>\n",
       "      <td>Grass</td>\n",
       "      <td>Poison</td>\n",
       "      <td>80</td>\n",
       "      <td>82</td>\n",
       "      <td>83</td>\n",
       "      <td>100</td>\n",
       "      <td>100</td>\n",
       "      <td>80</td>\n",
       "      <td>1</td>\n",
       "      <td>False</td>\n",
       "    </tr>\n",
       "    <tr>\n",
       "      <th>3</th>\n",
       "      <td>4</td>\n",
       "      <td>Mega Venusaur</td>\n",
       "      <td>Grass</td>\n",
       "      <td>Poison</td>\n",
       "      <td>80</td>\n",
       "      <td>100</td>\n",
       "      <td>123</td>\n",
       "      <td>122</td>\n",
       "      <td>120</td>\n",
       "      <td>80</td>\n",
       "      <td>1</td>\n",
       "      <td>False</td>\n",
       "    </tr>\n",
       "    <tr>\n",
       "      <th>4</th>\n",
       "      <td>5</td>\n",
       "      <td>Charmander</td>\n",
       "      <td>Fire</td>\n",
       "      <td>NaN</td>\n",
       "      <td>39</td>\n",
       "      <td>52</td>\n",
       "      <td>43</td>\n",
       "      <td>60</td>\n",
       "      <td>50</td>\n",
       "      <td>65</td>\n",
       "      <td>1</td>\n",
       "      <td>False</td>\n",
       "    </tr>\n",
       "  </tbody>\n",
       "</table>\n",
       "</div>"
      ],
      "text/plain": [
       "   #           Name Type 1  Type 2  HP  Attack  Defense  Sp. Atk  Sp. Def  \\\n",
       "0  1      Bulbasaur  Grass  Poison  45      49       49       65       65   \n",
       "1  2        Ivysaur  Grass  Poison  60      62       63       80       80   \n",
       "2  3       Venusaur  Grass  Poison  80      82       83      100      100   \n",
       "3  4  Mega Venusaur  Grass  Poison  80     100      123      122      120   \n",
       "4  5     Charmander   Fire     NaN  39      52       43       60       50   \n",
       "\n",
       "   Speed  Generation  Legendary  \n",
       "0     45           1      False  \n",
       "1     60           1      False  \n",
       "2     80           1      False  \n",
       "3     80           1      False  \n",
       "4     65           1      False  "
      ]
     },
     "execution_count": 3,
     "metadata": {},
     "output_type": "execute_result"
    }
   ],
   "source": [
    "data.head()"
   ]
  },
  {
   "cell_type": "markdown",
   "id": "47aba9ea",
   "metadata": {},
   "source": [
    "Çıktıda indeksi 4 olan satıra bakın. Type2 değeri NaN'dır. Ve bunun anlamı, Charmander'ın Type2 olarak bir özelliği yok.\n",
    "\n",
    "Bu şekilde missing data ile karşılaşırsak yapabileceklerimiz şu şekildedir:\n",
    "\n",
    "- Şu an olduğu gibi bırakabiliriz. Çünkü büyük ihtimal Charmander Type2 değerine shaip değil.\n",
    "- Missing data 'ları dropna() metodu ile verisetinden çıkarabiliriz. \n",
    "- Missing data'ların yerini fillna() metodu ile NaN ile doldurabiliriz.\n",
    "- Mesela veriler sayısal ise, diğer sample'lere bakarak missing data yerini diğer sample'lerin ortalaması veya medyanı ile doldurabiliriz."
   ]
  },
  {
   "cell_type": "code",
   "execution_count": 4,
   "id": "ec1a25a3",
   "metadata": {},
   "outputs": [
    {
     "name": "stdout",
     "output_type": "stream",
     "text": [
      "<class 'pandas.core.frame.DataFrame'>\n",
      "RangeIndex: 800 entries, 0 to 799\n",
      "Data columns (total 12 columns):\n",
      " #   Column      Non-Null Count  Dtype \n",
      "---  ------      --------------  ----- \n",
      " 0   #           800 non-null    int64 \n",
      " 1   Name        799 non-null    object\n",
      " 2   Type 1      800 non-null    object\n",
      " 3   Type 2      414 non-null    object\n",
      " 4   HP          800 non-null    int64 \n",
      " 5   Attack      800 non-null    int64 \n",
      " 6   Defense     800 non-null    int64 \n",
      " 7   Sp. Atk     800 non-null    int64 \n",
      " 8   Sp. Def     800 non-null    int64 \n",
      " 9   Speed       800 non-null    int64 \n",
      " 10  Generation  800 non-null    int64 \n",
      " 11  Legendary   800 non-null    bool  \n",
      "dtypes: bool(1), int64(8), object(3)\n",
      "memory usage: 69.7+ KB\n"
     ]
    }
   ],
   "source": [
    "data.info()"
   ]
  },
  {
   "cell_type": "markdown",
   "id": "1427820a",
   "metadata": {},
   "source": [
    "Çıktıyı inceleyelim. Type2 sütununun 414 tane non-null object değeri varmış. Bu durumda Type2 sütununda 386 tane null değer vardır."
   ]
  },
  {
   "cell_type": "code",
   "execution_count": 5,
   "id": "0e8898cb",
   "metadata": {},
   "outputs": [
    {
     "data": {
      "text/plain": [
       "NaN         386\n",
       "Flying       97\n",
       "Ground       35\n",
       "Poison       34\n",
       "Psychic      33\n",
       "Fighting     26\n",
       "Grass        25\n",
       "Fairy        23\n",
       "Steel        22\n",
       "Dark         20\n",
       "Dragon       18\n",
       "Ice          14\n",
       "Rock         14\n",
       "Water        14\n",
       "Ghost        14\n",
       "Fire         12\n",
       "Electric      6\n",
       "Normal        4\n",
       "Bug           3\n",
       "Name: Type 2, dtype: int64"
      ]
     },
     "execution_count": 5,
     "metadata": {},
     "output_type": "execute_result"
    }
   ],
   "source": [
    "data[\"Type 2\"].value_counts(dropna =False)"
   ]
  },
  {
   "cell_type": "markdown",
   "id": "b539116e",
   "metadata": {},
   "source": [
    "Yukarıdaki kodda bulunan value_counts() metodu, Type2'lerindeki her farklı değerden kaç tane olduğunu bulur. Bu metoda parametre olarak yazılan dropna =False ifadesinin anlamı ise, eğer NaN var ise bunu bırakma, onuda göster demek.\n",
    "\n",
    "Çıktıyı inceleyelim.\n",
    "\n",
    "Uçan (Flying) 97 tane pokemon olduğunu anlayabiliriz. \n",
    "\n",
    "Zehir (Poison) 34 adet olduğunu anlayabiliriz.\n",
    "\n",
    "Type2 değeri olmayan (NaN) 386 tane pokemon olduğunu anlayabiliriz."
   ]
  },
  {
   "cell_type": "code",
   "execution_count": 6,
   "id": "55621606",
   "metadata": {},
   "outputs": [],
   "source": [
    "data1=data   \n",
    "data1[\"Type 2\"].dropna(inplace = True)"
   ]
  },
  {
   "cell_type": "markdown",
   "id": "8b95f291",
   "metadata": {},
   "source": [
    "Yukarıda yapılan, Type2 sütun değeri NaN olanları \"inplace = True\" parametresinden dolayı data1'de tutulan verisetinden kalıcı olarak çıkarır."
   ]
  },
  {
   "cell_type": "markdown",
   "id": "e6b6e071",
   "metadata": {},
   "source": [
    "Yukarıda yaptığımız işlemin işe yarayıp yaramadığını kontrol etmek için \"assert\" metodu vardır."
   ]
  },
  {
   "cell_type": "code",
   "execution_count": 7,
   "id": "a8cf5e35",
   "metadata": {},
   "outputs": [],
   "source": [
    "assert 1==1"
   ]
  },
  {
   "cell_type": "markdown",
   "id": "dbe78f26",
   "metadata": {},
   "source": [
    "Yukarıdaki ifade sonucunda hiçbir şey dönmüyor ise, doğru demektir."
   ]
  },
  {
   "cell_type": "code",
   "execution_count": 8,
   "id": "508e85be",
   "metadata": {},
   "outputs": [
    {
     "ename": "AssertionError",
     "evalue": "",
     "output_type": "error",
     "traceback": [
      "\u001b[1;31m---------------------------------------------------------------------------\u001b[0m",
      "\u001b[1;31mAssertionError\u001b[0m                            Traceback (most recent call last)",
      "\u001b[1;32m~\\AppData\\Local\\Temp/ipykernel_15188/2358989623.py\u001b[0m in \u001b[0;36m<module>\u001b[1;34m\u001b[0m\n\u001b[1;32m----> 1\u001b[1;33m \u001b[1;32massert\u001b[0m \u001b[1;36m1\u001b[0m\u001b[1;33m==\u001b[0m\u001b[1;36m2\u001b[0m\u001b[1;33m\u001b[0m\u001b[1;33m\u001b[0m\u001b[0m\n\u001b[0m",
      "\u001b[1;31mAssertionError\u001b[0m: "
     ]
    }
   ],
   "source": [
    "assert 1==2"
   ]
  },
  {
   "cell_type": "markdown",
   "id": "44c913f2",
   "metadata": {},
   "source": [
    "1, 2'ye eşit olmadığı için hata döndürür.\n",
    "\n",
    "Şimdi assert metodunu veri setimizde kullanalım."
   ]
  },
  {
   "cell_type": "code",
   "execution_count": null,
   "id": "94e5ab64",
   "metadata": {},
   "outputs": [],
   "source": [
    "assert  data1['Type 2'].notnull().all()"
   ]
  },
  {
   "cell_type": "markdown",
   "id": "4f2d25d3",
   "metadata": {},
   "source": [
    "Bir üst satır sonucunda hata almadığımıza göre, Type2 değeri NaN olanları listeden atmışız demektir."
   ]
  },
  {
   "cell_type": "code",
   "execution_count": null,
   "id": "bf3589db",
   "metadata": {},
   "outputs": [],
   "source": [
    "data[\"Type 2\"].fillna('empty',inplace = True)"
   ]
  },
  {
   "cell_type": "markdown",
   "id": "4789dc7e",
   "metadata": {},
   "source": [
    "Yukarıdaki satırda, Type2'yi empty ile doldurduk."
   ]
  },
  {
   "cell_type": "code",
   "execution_count": null,
   "id": "36e77104",
   "metadata": {},
   "outputs": [],
   "source": [
    "assert  data['Type 2'].notnull().all()"
   ]
  },
  {
   "cell_type": "markdown",
   "id": "98ef6f37",
   "metadata": {},
   "source": [
    "Yukarıdaki satır ile tekrar kontrol ettik."
   ]
  },
  {
   "cell_type": "markdown",
   "id": "3e6ec13f",
   "metadata": {},
   "source": [
    "assert ifadesini başka amaçlar içinde kullanabiliriz."
   ]
  },
  {
   "cell_type": "code",
   "execution_count": null,
   "id": "bbe81145",
   "metadata": {},
   "outputs": [],
   "source": [
    "assert data.columns[1] == 'Name'"
   ]
  },
  {
   "cell_type": "markdown",
   "id": "d15dda45",
   "metadata": {},
   "source": [
    "Veri setinin 1.sütunu 'Name' mi diye kontrol eder ve doğru olduğundan hiçbir şey döndürmez."
   ]
  },
  {
   "cell_type": "code",
   "execution_count": null,
   "id": "6511c67d",
   "metadata": {},
   "outputs": [],
   "source": [
    "assert data.Speed.dtypes == np.int"
   ]
  },
  {
   "cell_type": "markdown",
   "id": "7fa5d778",
   "metadata": {},
   "source": [
    "data'nın hızının (Speed) type'si numpy'dan int mi diye kontrol eder. Speed sütununda bulunan değerler int tipinde olduğu için hata döndürmez."
   ]
  }
 ],
 "metadata": {
  "kernelspec": {
   "display_name": "Python 3 (ipykernel)",
   "language": "python",
   "name": "python3"
  },
  "language_info": {
   "codemirror_mode": {
    "name": "ipython",
    "version": 3
   },
   "file_extension": ".py",
   "mimetype": "text/x-python",
   "name": "python",
   "nbconvert_exporter": "python",
   "pygments_lexer": "ipython3",
   "version": "3.9.7"
  }
 },
 "nbformat": 4,
 "nbformat_minor": 5
}
